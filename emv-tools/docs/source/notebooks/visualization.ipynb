{
 "cells": [
  {
   "cell_type": "code",
   "execution_count": 7,
   "id": "c51c75ee-9e99-4925-8c55-6358e1928867",
   "metadata": {},
   "outputs": [],
   "source": [
    "import emv_tools\n",
    "emv_tools.scipion_bridge.env.configure_default_env()"
   ]
  },
  {
   "cell_type": "code",
   "execution_count": 8,
   "id": "626b11e2-98b9-49de-b054-7efb70023fff",
   "metadata": {},
   "outputs": [],
   "source": [
    "from emv_tools.scipion_bridge.proxy import ReferenceProxy\n",
    "import emv_tools.ffi.scipion as scipion"
   ]
  },
  {
   "cell_type": "code",
   "execution_count": 9,
   "id": "c2b505bf-3b71-4ba6-9f86-61a767b6ab20",
   "metadata": {},
   "outputs": [
    {
     "name": "stdout",
     "output_type": "stream",
     "text": [
      "scipion run xmipp_volume_from_pdb -i /home/max/Documents/val-server/EMV-Script-fork/emv-tools/data/pdb_file.pdb -o /tmp/tmp9xrz4aud --centerPDB -v 0 --sampling 0.825 --size 256\n",
      "Xmipp command detected\n",
      "Scipion v3.7.1 - Eugenius\n",
      "scipion run xmipp_volume_align --i1 /home/max/Documents/val-server/data/val-report-service/EMD-41510/EMD-41510_ScipionProject/Runs/000002_ProtImportVolumes/extra/emd_41510.map --i2 /tmp/tmp9xrz4aud.vol --local --apply /tmp/tmpv60f5til.vol\n",
      "1 (1,0,0,0,0,1,0,0,0)--->-0.352192\n",
      "   (1,0,***0.708913,0,0,1,0,0,0)--->-0.357556\n",
      "   (1,0,0.708913,***0.791434,0,1,0,0,0)--->-0.361547\n",
      "   (1,0,0.708913,0.791434,***-1.77479,1,0,0,0)--->-0.366221\n",
      "   (1,0,0.708913,0.791434,-1.77479,***1.03788,0,0,0)--->-0.370806\n",
      "   (1,0,0.708913,0.791434,-1.77479,1.03788,***-5.00371,0,0)--->-0.383885\n",
      "   (1,0,0.708913,0.791434,-1.77479,1.03788,-5.00371,***3.6429,0)--->-0.4655\n",
      "   (1,0,0.708913,0.791434,-1.77479,1.03788,-5.00371,3.6429,***2.78303)--->-0.574061\n",
      "2 (1,0,0.708913,0.791434,-1.77479,1.03788,-5.00371,3.6429,2.78303)--->-0.574061\n",
      "   (1,0,***1.84832,0.791434,-1.77479,1.03788,-5.00371,3.6429,2.78303)--->-0.586446\n",
      "   (1,0,1.84832,***0.282777,-1.77479,1.03788,-5.00371,3.6429,2.78303)--->-0.589031\n",
      "   (1,0,1.84832,0.282777,***-1.8122,1.03788,-5.00371,3.6429,2.78303)--->-0.589045\n",
      "   (1,0,1.84832,0.282777,-1.8122,***0.990355,-5.00371,3.6429,2.78303)--->-0.723589\n",
      "   (1,0,1.84832,0.282777,-1.8122,0.990355,***-4.84779,3.6429,2.78303)--->-0.725236\n",
      "   (1,0,1.84832,0.282777,-1.8122,0.990355,-4.84779,***3.76717,2.78303)--->-0.72611\n",
      "   (1,0,1.84832,0.282777,-1.8122,0.990355,-4.84779,3.76717,***2.7104)--->-0.726414\n",
      "3 (1,0,1.84832,0.282777,-1.8122,0.990355,-4.84779,3.76717,2.7104)--->-0.726414\n",
      "   (1,0,***1.7984,0.282777,-1.8122,0.990355,-4.84779,3.76717,2.7104)--->-0.726461\n",
      "   (1,0,1.7984,***0.142604,-1.8122,0.990355,-4.84779,3.76717,2.7104)--->-0.726924\n",
      "   (1,0,1.7984,0.142604,***-1.82488,0.990355,-4.84779,3.76717,2.7104)--->-0.726927\n",
      "   (1,0,1.7984,0.142604,-1.82488,***0.989359,-4.84779,3.76717,2.7104)--->-0.727005\n",
      "   (1,0,1.7984,0.142604,-1.82488,0.989359,***-4.8358,3.76717,2.7104)--->-0.727015\n",
      "   (1,0,1.7984,0.142604,-1.82488,0.989359,-4.8358,***3.7761,2.7104)--->-0.727021\n",
      "   (1,0,1.7984,0.142604,-1.82488,0.989359,-4.8358,3.7761,***2.71688)--->-0.727023\n",
      "The best correlation is for\n",
      "Scale                  : 0.989359\n",
      "Translation (X,Y,Z)    : 2.71688 3.7761 -4.8358\n",
      "Rotation (rot,tilt,psi): 1.7984 0.142604 -1.82488\n",
      "Best grey scale       : 1\n",
      "Best grey shift       : 0\n",
      "Fitness value         : -0.727023\n",
      "xmipp_transform_geometry will require the following values\n",
      "   Angles: 1.7984 0.142604 -1.82488\n",
      "   Shifts: 2.72716 3.77773 -4.82873\n",
      "Xmipp command detected\n",
      "Scipion v3.7.1 - Eugenius\n",
      "scipion run xmipp_transform_threshold -i /tmp/tmp9xrz4aud.vol -o /tmp/tmpzekw_lcb.vol --select below 0.02 --substitute binarize\n",
      "Input File: /tmp/tmp9xrz4aud.vol\n",
      "Output File: /tmp/tmpzekw_lcb.vol\n",
      "Xmipp command detected\n",
      "Scipion v3.7.1 - Eugenius\n"
     ]
    },
    {
     "data": {
      "application/vnd.jupyter.widget-view+json": {
       "model_id": "b3a40ed276c4456c953df6651cea6cfe",
       "version_major": 2,
       "version_minor": 0
      },
      "text/plain": [
       "Output()"
      ]
     },
     "metadata": {},
     "output_type": "display_data"
    }
   ],
   "source": [
    "from emv_tools.scipion_bridge.proxy import OutputInfo\n",
    "\n",
    "PDB_FILE = \"/home/max/Documents/val-server/EMV-Script-fork/emv-tools/data/pdb_file.pdb\"\n",
    "EMDB_MAP = \"/home/max/Documents/val-server/data/val-report-service/EMD-41510/EMD-41510_ScipionProject/Runs/000002_ProtImportVolumes/extra/emd_41510.map\"\n",
    "\n",
    "volume = scipion.xmipp_volume_from_pdb(\n",
    "    PDB_FILE,\n",
    "    OutputInfo(None),\n",
    "    center_pdb=\"-v 0\",\n",
    "    sampling=0.825,\n",
    "    size=256,\n",
    ").reassign(\"vol\")\n",
    "\n",
    "result = scipion.xmipp_volume_align(\n",
    "    embdb_map=EMDB_MAP,\n",
    "    volume=volume,\n",
    "    local=True,\n",
    "    apply=True,\n",
    ")\n",
    "\n",
    "result = scipion.xmipp_transform_threshold(\n",
    "    volume, select=\"below 0.02\", substitute=\"binarize\"\n",
    ")\n",
    "\n",
    "result"
   ]
  },
  {
   "cell_type": "code",
   "execution_count": null,
   "id": "f92b3bbf-fdc3-4803-a84a-bf992d7e063b",
   "metadata": {},
   "outputs": [],
   "source": [
    "volume"
   ]
  },
  {
   "cell_type": "code",
   "execution_count": 1,
   "id": "53232d97-eca1-44c1-92f2-79bb31e70c4a",
   "metadata": {},
   "outputs": [],
   "source": [
    "import xmippLib"
   ]
  },
  {
   "cell_type": "code",
   "execution_count": 2,
   "id": "57f4b963-0bd6-498f-a3ba-ca3ad7109407",
   "metadata": {},
   "outputs": [],
   "source": [
    "foo = xmippLib.MetaData(\"/home/max/Documents/val-server/data/val-report-service/EMD-41510/EMD-41510_ScipionProject/Runs/000415_XmippProtCreateMask3D/mask.mrc\")"
   ]
  }
 ],
 "metadata": {
  "kernelspec": {
   "display_name": "Python 3 (ipykernel)",
   "language": "python",
   "name": "python3"
  },
  "language_info": {
   "codemirror_mode": {
    "name": "ipython",
    "version": 3
   },
   "file_extension": ".py",
   "mimetype": "text/x-python",
   "name": "python",
   "nbconvert_exporter": "python",
   "pygments_lexer": "ipython3",
   "version": "3.8.20"
  }
 },
 "nbformat": 4,
 "nbformat_minor": 5
}

{
 "cells": [
  {
   "cell_type": "code",
   "execution_count": 1,
   "id": "9cebdaeb",
   "metadata": {},
   "outputs": [],
   "source": [
    "import xmippLib\n",
    "import numpy as np"
   ]
  },
  {
   "cell_type": "code",
   "execution_count": 2,
   "id": "0cceae72-55b5-4e49-92e2-bee5404ac2fe",
   "metadata": {},
   "outputs": [],
   "source": [
    "import k3d"
   ]
  },
  {
   "cell_type": "code",
   "execution_count": 3,
   "id": "c62d32a9",
   "metadata": {},
   "outputs": [],
   "source": [
    "volume = xmippLib.Image(\"/home/max/Documents/val-server/data/val-report-service/EMD-41510/EMD-41510_ScipionProject/Runs/000415_XmippProtCreateMask3D/mask.mrc\")"
   ]
  },
  {
   "cell_type": "code",
   "execution_count": null,
   "id": "15ff4952-7dc0-4918-b414-85c68f6382de",
   "metadata": {},
   "outputs": [],
   "source": []
  },
  {
   "cell_type": "code",
   "execution_count": 4,
   "id": "fb8a8d9d-9578-40e2-aa68-8d49a21695c6",
   "metadata": {},
   "outputs": [
    {
     "data": {
      "application/vnd.jupyter.widget-view+json": {
       "model_id": "cff0eaa5b3c541f7859faea96a2c42cd",
       "version_major": 2,
       "version_minor": 0
      },
      "text/plain": [
       "Output()"
      ]
     },
     "metadata": {},
     "output_type": "display_data"
    }
   ],
   "source": [
    "plt_volume = k3d.volume(volume.getData().astype(np.float32))\n",
    "\n",
    "plot = k3d.plot()\n",
    "plot += plt_volume\n",
    "plot.display()"
   ]
  },
  {
   "cell_type": "code",
   "execution_count": 5,
   "id": "c51c75ee-9e99-4925-8c55-6358e1928867",
   "metadata": {},
   "outputs": [],
   "source": [
    "import emv_tools\n",
    "\n",
    "from emv_tools.utils.providers.container import Container\n",
    "container = Container()\n",
    "container.wire(modules=[__name__, \"emv_tools.ffi.scipion\"], packages=[\"emv_tools\"])"
   ]
  },
  {
   "cell_type": "code",
   "execution_count": 6,
   "id": "626b11e2-98b9-49de-b054-7efb70023fff",
   "metadata": {},
   "outputs": [],
   "source": [
    "from emv_tools.scipion_bridge.proxy import ReferenceProxy\n",
    "import emv_tools.ffi.scipion as scipion"
   ]
  },
  {
   "cell_type": "code",
   "execution_count": 7,
   "id": "c2b505bf-3b71-4ba6-9f86-61a767b6ab20",
   "metadata": {},
   "outputs": [
    {
     "name": "stdout",
     "output_type": "stream",
     "text": [
      "scipion run xmipp_volume_from_pdb -i /home/max/Documents/val-server/EMV-Script-fork/emv-tools/data/pdb_file.pdb -o /tmp/tmpmzd9sc8m --centerPDB -v 0 --sampling 0.825 --size 256\n",
      "Xmipp command detected\n",
      "Scipion v3.7.1 - Eugenius\n",
      "scipion run xmipp_volume_align --i1 /home/max/Documents/val-server/data/val-report-service/EMD-41510/EMD-41510_ScipionProject/Runs/000002_ProtImportVolumes/extra/emd_41510.map --i2 /tmp/tmpmzd9sc8m.vol --local --apply /tmp/tmp0wwjqaez.vol\n",
      "1 (1,0,0,0,0,1,0,0,0)--->-0.352192\n",
      "   (1,0,***0.708913,0,0,1,0,0,0)--->-0.357556\n",
      "   (1,0,0.708913,***0.791434,0,1,0,0,0)--->-0.361547\n",
      "   (1,0,0.708913,0.791434,***-1.77479,1,0,0,0)--->-0.366221\n",
      "   (1,0,0.708913,0.791434,-1.77479,***1.03788,0,0,0)--->-0.370806\n",
      "   (1,0,0.708913,0.791434,-1.77479,1.03788,***-5.00371,0,0)--->-0.383885\n",
      "   (1,0,0.708913,0.791434,-1.77479,1.03788,-5.00371,***3.6429,0)--->-0.4655\n",
      "   (1,0,0.708913,0.791434,-1.77479,1.03788,-5.00371,3.6429,***2.78303)--->-0.574061\n",
      "2 (1,0,0.708913,0.791434,-1.77479,1.03788,-5.00371,3.6429,2.78303)--->-0.574061\n",
      "   (1,0,***1.84832,0.791434,-1.77479,1.03788,-5.00371,3.6429,2.78303)--->-0.586446\n",
      "   (1,0,1.84832,***0.282777,-1.77479,1.03788,-5.00371,3.6429,2.78303)--->-0.589031\n",
      "   (1,0,1.84832,0.282777,***-1.8122,1.03788,-5.00371,3.6429,2.78303)--->-0.589045\n",
      "   (1,0,1.84832,0.282777,-1.8122,***0.990355,-5.00371,3.6429,2.78303)--->-0.723589\n",
      "Xmipp command detected\n",
      "Scipion v3.7.1 - Eugenius\n"
     ]
    },
    {
     "ename": "KeyboardInterrupt",
     "evalue": "",
     "output_type": "error",
     "traceback": [
      "\u001b[0;31m---------------------------------------------------------------------------\u001b[0m",
      "\u001b[0;31mKeyboardInterrupt\u001b[0m                         Traceback (most recent call last)",
      "Cell \u001b[0;32mIn[7], line 14\u001b[0m\n\u001b[1;32m      4\u001b[0m EMDB_MAP \u001b[38;5;241m=\u001b[39m \u001b[38;5;124m\"\u001b[39m\u001b[38;5;124m/home/max/Documents/val-server/data/val-report-service/EMD-41510/EMD-41510_ScipionProject/Runs/000002_ProtImportVolumes/extra/emd_41510.map\u001b[39m\u001b[38;5;124m\"\u001b[39m\n\u001b[1;32m      6\u001b[0m volume \u001b[38;5;241m=\u001b[39m scipion\u001b[38;5;241m.\u001b[39mxmipp_volume_from_pdb(\n\u001b[1;32m      7\u001b[0m     PDB_FILE,\n\u001b[1;32m      8\u001b[0m     OutputInfo(\u001b[38;5;28;01mNone\u001b[39;00m),\n\u001b[0;32m   (...)\u001b[0m\n\u001b[1;32m     11\u001b[0m     size\u001b[38;5;241m=\u001b[39m\u001b[38;5;241m256\u001b[39m,\n\u001b[1;32m     12\u001b[0m )\u001b[38;5;241m.\u001b[39mreassign(\u001b[38;5;124m\"\u001b[39m\u001b[38;5;124mvol\u001b[39m\u001b[38;5;124m\"\u001b[39m)\n\u001b[0;32m---> 14\u001b[0m result \u001b[38;5;241m=\u001b[39m \u001b[43mscipion\u001b[49m\u001b[38;5;241;43m.\u001b[39;49m\u001b[43mxmipp_volume_align\u001b[49m\u001b[43m(\u001b[49m\n\u001b[1;32m     15\u001b[0m \u001b[43m    \u001b[49m\u001b[43membdb_map\u001b[49m\u001b[38;5;241;43m=\u001b[39;49m\u001b[43mEMDB_MAP\u001b[49m\u001b[43m,\u001b[49m\n\u001b[1;32m     16\u001b[0m \u001b[43m    \u001b[49m\u001b[43mvolume\u001b[49m\u001b[38;5;241;43m=\u001b[39;49m\u001b[43mvolume\u001b[49m\u001b[43m,\u001b[49m\n\u001b[1;32m     17\u001b[0m \u001b[43m    \u001b[49m\u001b[43mlocal\u001b[49m\u001b[38;5;241;43m=\u001b[39;49m\u001b[38;5;28;43;01mTrue\u001b[39;49;00m\u001b[43m,\u001b[49m\n\u001b[1;32m     18\u001b[0m \u001b[43m    \u001b[49m\u001b[43mapply\u001b[49m\u001b[38;5;241;43m=\u001b[39;49m\u001b[38;5;28;43;01mTrue\u001b[39;49;00m\u001b[43m,\u001b[49m\n\u001b[1;32m     19\u001b[0m \u001b[43m)\u001b[49m\n\u001b[1;32m     21\u001b[0m result \u001b[38;5;241m=\u001b[39m scipion\u001b[38;5;241m.\u001b[39mxmipp_transform_threshold(\n\u001b[1;32m     22\u001b[0m     volume, select\u001b[38;5;241m=\u001b[39m\u001b[38;5;124m\"\u001b[39m\u001b[38;5;124mbelow 0.02\u001b[39m\u001b[38;5;124m\"\u001b[39m, substitute\u001b[38;5;241m=\u001b[39m\u001b[38;5;124m\"\u001b[39m\u001b[38;5;124mbinarize\u001b[39m\u001b[38;5;124m\"\u001b[39m\n\u001b[1;32m     23\u001b[0m )\n\u001b[1;32m     25\u001b[0m result\n",
      "File \u001b[0;32m~/Documents/val-server/EMV-Script-fork/emv-tools/src/emv_tools/scipion_bridge/proxy.py:258\u001b[0m, in \u001b[0;36mproxify.<locals>.wrapper\u001b[0;34m(*args, **kwargs)\u001b[0m\n\u001b[1;32m    255\u001b[0m             output_proxies\u001b[38;5;241m.\u001b[39mappend(v)\n\u001b[1;32m    256\u001b[0m             func_args[k] \u001b[38;5;241m=\u001b[39m os\u001b[38;5;241m.\u001b[39mpath\u001b[38;5;241m.\u001b[39mabspath(v\u001b[38;5;241m.\u001b[39mpath)\n\u001b[0;32m--> 258\u001b[0m out_val \u001b[38;5;241m=\u001b[39m \u001b[43mf\u001b[49m\u001b[43m(\u001b[49m\u001b[38;5;241;43m*\u001b[39;49m\u001b[38;5;241;43m*\u001b[39;49m\u001b[43mfunc_args\u001b[49m\u001b[43m)\u001b[49m\n\u001b[1;32m    260\u001b[0m outputs \u001b[38;5;241m=\u001b[39m out_val \u001b[38;5;28;01mif\u001b[39;00m \u001b[38;5;28misinstance\u001b[39m(out_val, \u001b[38;5;28mtuple\u001b[39m) \u001b[38;5;28;01melse\u001b[39;00m (out_val,)\n\u001b[1;32m    261\u001b[0m outputs_are_proxies \u001b[38;5;241m=\u001b[39m \u001b[38;5;28mall\u001b[39m([\u001b[38;5;28misinstance\u001b[39m(o, Proxy) \u001b[38;5;28;01mfor\u001b[39;00m o \u001b[38;5;129;01min\u001b[39;00m outputs])\n",
      "File \u001b[0;32m~/miniconda3/envs/scipion3/lib/python3.8/site-packages/dependency_injector/wiring.py:1089\u001b[0m, in \u001b[0;36m_get_sync_patched.<locals>._patched\u001b[0;34m(*args, **raw_kwargs)\u001b[0m\n\u001b[1;32m   1086\u001b[0m resolver \u001b[38;5;241m=\u001b[39m DependencyResolver(raw_kwargs, patched\u001b[38;5;241m.\u001b[39minjections, patched\u001b[38;5;241m.\u001b[39mclosing)\n\u001b[1;32m   1088\u001b[0m \u001b[38;5;28;01mwith\u001b[39;00m resolver \u001b[38;5;28;01mas\u001b[39;00m kwargs:\n\u001b[0;32m-> 1089\u001b[0m     \u001b[38;5;28;01mreturn\u001b[39;00m \u001b[43mfn\u001b[49m\u001b[43m(\u001b[49m\u001b[38;5;241;43m*\u001b[39;49m\u001b[43margs\u001b[49m\u001b[43m,\u001b[49m\u001b[43m \u001b[49m\u001b[38;5;241;43m*\u001b[39;49m\u001b[38;5;241;43m*\u001b[39;49m\u001b[43mkwargs\u001b[49m\u001b[43m)\u001b[49m\n",
      "File \u001b[0;32m~/Documents/val-server/EMV-Script-fork/emv-tools/src/emv_tools/scipion_bridge/external_call.py:142\u001b[0m, in \u001b[0;36mforeign_function.<locals>.wrapper\u001b[0;34m(__scipion_bridge_runner__, *args, **kwargs)\u001b[0m\n\u001b[1;32m    139\u001b[0m raw_args \u001b[38;5;241m=\u001b[39m itertools\u001b[38;5;241m.\u001b[39mchain\u001b[38;5;241m.\u001b[39mfrom_iterable(raw_args)\n\u001b[1;32m    140\u001b[0m raw_args \u001b[38;5;241m=\u001b[39m [\u001b[38;5;124m\"\u001b[39m\u001b[38;5;124mscipion\u001b[39m\u001b[38;5;124m\"\u001b[39m, \u001b[38;5;124m\"\u001b[39m\u001b[38;5;124mrun\u001b[39m\u001b[38;5;124m\"\u001b[39m, f\u001b[38;5;241m.\u001b[39m\u001b[38;5;18m__name__\u001b[39m, \u001b[38;5;241m*\u001b[39mraw_args]\n\u001b[0;32m--> 142\u001b[0m \u001b[38;5;28;01mreturn\u001b[39;00m \u001b[43m__scipion_bridge_runner__\u001b[49m\u001b[43m(\u001b[49m\u001b[43mf\u001b[49m\u001b[38;5;241;43m.\u001b[39;49m\u001b[38;5;18;43m__name__\u001b[39;49m\u001b[43m,\u001b[49m\u001b[43m \u001b[49m\u001b[43mraw_args\u001b[49m\u001b[43m,\u001b[49m\u001b[43m \u001b[49m\u001b[43mrun_args\u001b[49m\u001b[43m)\u001b[49m\n",
      "File \u001b[0;32m~/Documents/val-server/EMV-Script-fork/emv-tools/src/emv_tools/utils/providers/cmd_exec.py:23\u001b[0m, in \u001b[0;36mShellExecProvider.__call__\u001b[0;34m(self, *args, **kwds)\u001b[0m\n\u001b[1;32m     22\u001b[0m \u001b[38;5;28;01mdef\u001b[39;00m \u001b[38;5;21m__call__\u001b[39m(\u001b[38;5;28mself\u001b[39m, \u001b[38;5;241m*\u001b[39margs, \u001b[38;5;241m*\u001b[39m\u001b[38;5;241m*\u001b[39mkwds):\n\u001b[0;32m---> 23\u001b[0m     \u001b[38;5;28;01mreturn\u001b[39;00m \u001b[38;5;28;43mself\u001b[39;49m\u001b[38;5;241;43m.\u001b[39;49m\u001b[43mrun\u001b[49m\u001b[43m(\u001b[49m\u001b[38;5;241;43m*\u001b[39;49m\u001b[43margs\u001b[49m\u001b[43m,\u001b[49m\u001b[43m \u001b[49m\u001b[38;5;241;43m*\u001b[39;49m\u001b[38;5;241;43m*\u001b[39;49m\u001b[43mkwds\u001b[49m\u001b[43m)\u001b[49m\n",
      "File \u001b[0;32m~/Documents/val-server/EMV-Script-fork/emv-tools/src/emv_tools/utils/providers/cmd_exec.py:12\u001b[0m, in \u001b[0;36mShellExecProvider.run\u001b[0;34m(self, func_name, args, run_args)\u001b[0m\n\u001b[1;32m      9\u001b[0m \u001b[38;5;28mprint\u001b[39m(cmd)\n\u001b[1;32m     11\u001b[0m proc \u001b[38;5;241m=\u001b[39m Popen(cmd, \u001b[38;5;241m*\u001b[39m\u001b[38;5;241m*\u001b[39mrun_args)\n\u001b[0;32m---> 12\u001b[0m _, err \u001b[38;5;241m=\u001b[39m \u001b[43mproc\u001b[49m\u001b[38;5;241;43m.\u001b[39;49m\u001b[43mcommunicate\u001b[49m\u001b[43m(\u001b[49m\u001b[43m)\u001b[49m  \u001b[38;5;66;03m# Blocks until finished\u001b[39;00m\n\u001b[1;32m     13\u001b[0m \u001b[38;5;28;01mif\u001b[39;00m proc\u001b[38;5;241m.\u001b[39mreturncode \u001b[38;5;241m!=\u001b[39m \u001b[38;5;241m0\u001b[39m:\n\u001b[1;32m     15\u001b[0m     message \u001b[38;5;241m=\u001b[39m err\u001b[38;5;241m.\u001b[39mdecode(\u001b[38;5;124m\"\u001b[39m\u001b[38;5;124mutf-8\u001b[39m\u001b[38;5;124m\"\u001b[39m)\n",
      "File \u001b[0;32m~/miniconda3/envs/scipion3/lib/python3.8/subprocess.py:1018\u001b[0m, in \u001b[0;36mPopen.communicate\u001b[0;34m(self, input, timeout)\u001b[0m\n\u001b[1;32m   1016\u001b[0m     \u001b[38;5;28mself\u001b[39m\u001b[38;5;241m.\u001b[39mstdout\u001b[38;5;241m.\u001b[39mclose()\n\u001b[1;32m   1017\u001b[0m \u001b[38;5;28;01melif\u001b[39;00m \u001b[38;5;28mself\u001b[39m\u001b[38;5;241m.\u001b[39mstderr:\n\u001b[0;32m-> 1018\u001b[0m     stderr \u001b[38;5;241m=\u001b[39m \u001b[38;5;28;43mself\u001b[39;49m\u001b[38;5;241;43m.\u001b[39;49m\u001b[43mstderr\u001b[49m\u001b[38;5;241;43m.\u001b[39;49m\u001b[43mread\u001b[49m\u001b[43m(\u001b[49m\u001b[43m)\u001b[49m\n\u001b[1;32m   1019\u001b[0m     \u001b[38;5;28mself\u001b[39m\u001b[38;5;241m.\u001b[39mstderr\u001b[38;5;241m.\u001b[39mclose()\n\u001b[1;32m   1020\u001b[0m \u001b[38;5;28mself\u001b[39m\u001b[38;5;241m.\u001b[39mwait()\n",
      "\u001b[0;31mKeyboardInterrupt\u001b[0m: "
     ]
    }
   ],
   "source": [
    "from emv_tools.scipion_bridge.proxy import OutputInfo\n",
    "\n",
    "PDB_FILE = \"/home/max/Documents/val-server/EMV-Script-fork/emv-tools/data/pdb_file.pdb\"\n",
    "EMDB_MAP = \"/home/max/Documents/val-server/data/val-report-service/EMD-41510/EMD-41510_ScipionProject/Runs/000002_ProtImportVolumes/extra/emd_41510.map\"\n",
    "\n",
    "volume = scipion.xmipp_volume_from_pdb(\n",
    "    PDB_FILE,\n",
    "    OutputInfo(None),\n",
    "    center_pdb=\"-v 0\",\n",
    "    sampling=0.825,\n",
    "    size=256,\n",
    ").reassign(\"vol\")\n",
    "\n",
    "result = scipion.xmipp_volume_align(\n",
    "    embdb_map=EMDB_MAP,\n",
    "    volume=volume,\n",
    "    local=True,\n",
    "    apply=True,\n",
    ")\n",
    "\n",
    "result = scipion.xmipp_transform_threshold(\n",
    "    volume, select=\"below 0.02\", substitute=\"binarize\"\n",
    ")\n",
    "\n",
    "result"
   ]
  },
  {
   "cell_type": "code",
   "execution_count": null,
   "id": "f92b3bbf-fdc3-4803-a84a-bf992d7e063b",
   "metadata": {},
   "outputs": [],
   "source": [
    "volume"
   ]
  },
  {
   "cell_type": "code",
   "execution_count": 1,
   "id": "53232d97-eca1-44c1-92f2-79bb31e70c4a",
   "metadata": {},
   "outputs": [],
   "source": [
    "import xmippLib"
   ]
  },
  {
   "cell_type": "code",
   "execution_count": 2,
   "id": "57f4b963-0bd6-498f-a3ba-ca3ad7109407",
   "metadata": {},
   "outputs": [],
   "source": [
    "foo = xmippLib.MetaData(\"/home/max/Documents/val-server/data/val-report-service/EMD-41510/EMD-41510_ScipionProject/Runs/000415_XmippProtCreateMask3D/mask.mrc\")"
   ]
  }
 ],
 "metadata": {
  "kernelspec": {
   "display_name": "Python 3 (ipykernel)",
   "language": "python",
   "name": "python3"
  },
  "language_info": {
   "codemirror_mode": {
    "name": "ipython",
    "version": 3
   },
   "file_extension": ".py",
   "mimetype": "text/x-python",
   "name": "python",
   "nbconvert_exporter": "python",
   "pygments_lexer": "ipython3",
   "version": "3.8.20"
  }
 },
 "nbformat": 4,
 "nbformat_minor": 5
}

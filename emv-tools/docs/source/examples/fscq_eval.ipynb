{
 "cells": [
  {
   "cell_type": "code",
   "execution_count": 1,
   "id": "60afa068-1149-4c02-bfd0-40d92c92f7f7",
   "metadata": {},
   "outputs": [],
   "source": [
    "import os\n",
    "from pathlib import Path\n",
    "\n",
    "import emv_tools\n",
    "import emv_tools.ffi.scipion as scipion\n",
    "from emv_tools.scipion_bridge.proxy import OutputInfo\n",
    "\n",
    "from utils import download as D\n",
    "emv_tools.scipion_bridge.environment.configure_default_env()"
   ]
  },
  {
   "cell_type": "code",
   "execution_count": 2,
   "id": "5057b89e-44f4-462b-a5e3-b2aac5d65f52",
   "metadata": {},
   "outputs": [],
   "source": [
    "DOWNLOAD_PATH = Path(\"data/downloaded\")\n",
    "EMDB_ENTRY = 41510"
   ]
  },
  {
   "cell_type": "code",
   "execution_count": 3,
   "id": "0ce8ff5a-10c8-4d51-a0eb-5fad145dd945",
   "metadata": {},
   "outputs": [],
   "source": [
    "metadata = D.download_emdb_metadata(entry_id=EMDB_ENTRY)\n",
    "\n",
    "os.makedirs(DOWNLOAD_PATH, exist_ok=True)\n",
    "emdb_map = D.download_emdb_map(EMDB_ENTRY, DOWNLOAD_PATH)\n",
    "pdb_model = D.download_pdb_model(metadata.pdb_id, DOWNLOAD_PATH)"
   ]
  },
  {
   "cell_type": "code",
   "execution_count": 4,
   "id": "1a0bfc25-7ccd-4532-a10e-25c2310589ce",
   "metadata": {},
   "outputs": [
    {
     "data": {
      "text/plain": [
       "(PosixPath('data/downloaded/emd_41510.map'),\n",
       " PosixPath('data/downloaded/pdb7l70.ent'))"
      ]
     },
     "execution_count": 4,
     "metadata": {},
     "output_type": "execute_result"
    }
   ],
   "source": [
    "emdb_map, pdb_model"
   ]
  },
  {
   "cell_type": "markdown",
   "id": "61ce49c4-7b51-4b12-b05a-ef571b366143",
   "metadata": {},
   "source": [
    "## Create mask for FSCQ"
   ]
  },
  {
   "cell_type": "code",
   "execution_count": 8,
   "id": "4fa68922-f07b-429f-8d67-545357fad81f",
   "metadata": {},
   "outputs": [
    {
     "name": "stdout",
     "output_type": "stream",
     "text": [
      "[XMIPP] scipion run scipion run xmipp_volume_from_pdb -i data/downloaded/pdb7l70.ent -o /tmp/tmpz5czm3wl --centerPDB -v 0 --sampling 0.825 --size 256\n",
      "Xmipp command detected\n",
      "Scipion v3.7.1 - Eugenius\n",
      "Scipion v3.7.1 - Eugenius\n"
     ]
    }
   ],
   "source": [
    "volume = scipion.xmipp_volume_from_pdb(\n",
    "    pdb_model,\n",
    "    OutputInfo(None),\n",
    "    center_pdb=\"-v 0\",\n",
    "    sampling=0.825,\n",
    "    size=256,\n",
    ").reassign(\"vol\")\n",
    "\n",
    "# volume = scipion.xmipp_volume_align(\n",
    "#     embdb_map=str(emdb_map),\n",
    "#     volume=volume,\n",
    "#     local=True,\n",
    "#     apply=True,\n",
    "# )\n",
    "\n",
    "# volume"
   ]
  },
  {
   "cell_type": "code",
   "execution_count": 7,
   "id": "9f69f91b-8f60-4e7e-853a-4c5355ffb949",
   "metadata": {},
   "outputs": [
    {
     "name": "stdout",
     "output_type": "stream",
     "text": [
      "[XMIPP] scipion run scipion run xmipp_transform_threshold -i /tmp/tmpiam_sgof.vol -o /tmp/tmpw2cam9bb.vol --select below 0.02 --substitute binarize\n",
      "Input File: /tmp/tmpiam_sgof.vol\n",
      "Output File: /tmp/tmpw2cam9bb.vol\n",
      "Xmipp command detected\n",
      "Scipion v3.7.1 - Eugenius\n",
      "Scipion v3.7.1 - Eugenius\n",
      "[XMIPP] scipion run scipion run xmipp_transform_morphology -i /tmp/tmpw2cam9bb.vol -o /tmp/tmp7md5lkl3.vol --binaryOperation dilation --size 2\n",
      "Input File: /tmp/tmpw2cam9bb.vol\n",
      "Output File: /tmp/tmp7md5lkl3.vol\n",
      "Initially the image has 1.0809e+06 pixels set to 1\n",
      "Finally the image has 1.40751e+06 pixels set to 1\n",
      "Xmipp command detected\n",
      "Scipion v3.7.1 - Eugenius\n",
      "Scipion v3.7.1 - Eugenius\n"
     ]
    },
    {
     "data": {
      "application/vnd.jupyter.widget-view+json": {
       "model_id": "3eec6b946a7b4bdc93afaa4e00fae470",
       "version_major": 2,
       "version_minor": 0
      },
      "text/plain": [
       "Output()"
      ]
     },
     "metadata": {},
     "output_type": "display_data"
    }
   ],
   "source": [
    "mask = scipion.xmipp_transform_threshold(\n",
    "    volume, select=\"below 0.02\", substitute=\"binarize\"\n",
    ")\n",
    "mask = scipion.xmipp_transform_morphology(mask, binary_operation=\"dilation\", size=2)\n",
    "\n",
    "mask"
   ]
  },
  {
   "cell_type": "markdown",
   "id": "cafd110b-d6aa-408d-854c-e82ee9e0904f",
   "metadata": {},
   "source": [
    "## Compute BlocRes"
   ]
  },
  {
   "cell_type": "code",
   "execution_count": null,
   "id": "d8241ebe-e6dd-48b5-916e-f436434ab6c2",
   "metadata": {},
   "outputs": [],
   "source": [
    "print(os.environ)"
   ]
  },
  {
   "cell_type": "code",
   "execution_count": null,
   "id": "d95ccaab-6023-40e9-b13b-453fecb71889",
   "metadata": {},
   "outputs": [],
   "source": []
  }
 ],
 "metadata": {
  "kernelspec": {
   "display_name": "Python 3 (ipykernel)",
   "language": "python",
   "name": "python3"
  },
  "language_info": {
   "codemirror_mode": {
    "name": "ipython",
    "version": 3
   },
   "file_extension": ".py",
   "mimetype": "text/x-python",
   "name": "python",
   "nbconvert_exporter": "python",
   "pygments_lexer": "ipython3",
   "version": "3.8.20"
  }
 },
 "nbformat": 4,
 "nbformat_minor": 5
}
